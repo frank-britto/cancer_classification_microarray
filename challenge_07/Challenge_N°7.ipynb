{
  "nbformat": 4,
  "nbformat_minor": 0,
  "metadata": {
    "colab": {
      "provenance": [],
      "gpuType": "T4"
    },
    "kernelspec": {
      "name": "python3",
      "display_name": "Python 3"
    },
    "language_info": {
      "name": "python"
    },
    "accelerator": "GPU"
  },
  "cells": [
    {
      "cell_type": "markdown",
      "source": [
        "# Clasificación de dígitos escritos a mano utilizando la base de datos MNIST"
      ],
      "metadata": {
        "id": "-gzUGB_HW__Z"
      }
    },
    {
      "cell_type": "markdown",
      "source": [
        "El presente notebook busca realizar una comparación entre la implementación de algoritmos de machine learning y de deep learning para resolver una tarea de clasificación de imágenes a partir del dataset MNIST, el cual se compone de imágenes de números del 0 al 9 escritos a mano y digitalizados. "
      ],
      "metadata": {
        "id": "QyRhb3GeEJAx"
      }
    },
    {
      "cell_type": "code",
      "execution_count": 1,
      "metadata": {
        "id": "7Nz-yoDVhzC8"
      },
      "outputs": [],
      "source": [
        "import numpy as np\n",
        "import pandas as pd\n",
        "import matplotlib.pyplot as plt"
      ]
    },
    {
      "cell_type": "markdown",
      "source": [
        "Dentro de la carpeta `sample_data` del entorno de Colab se encuentra la base de datos MNIST."
      ],
      "metadata": {
        "id": "wGsEtYmOXczG"
      }
    },
    {
      "cell_type": "code",
      "source": [
        "mnist_train = pd.read_csv('/content/sample_data/mnist_train_small.csv')\n",
        "mnist_test = pd.read_csv('/content/sample_data/mnist_test.csv')"
      ],
      "metadata": {
        "id": "O8POh45AXKan"
      },
      "execution_count": 2,
      "outputs": []
    },
    {
      "cell_type": "markdown",
      "source": [
        "## Visualización de datos"
      ],
      "metadata": {
        "id": "MyIJgnb-Xz8c"
      }
    },
    {
      "cell_type": "code",
      "source": [
        "mnist_train.head()"
      ],
      "metadata": {
        "colab": {
          "base_uri": "https://localhost:8080/",
          "height": 235
        },
        "id": "S55f4aleZIMv",
        "outputId": "eed59b23-2ba5-4af3-e86d-103d03bc752c"
      },
      "execution_count": 3,
      "outputs": [
        {
          "output_type": "execute_result",
          "data": {
            "text/plain": [
              "   6  0  0.1  0.2  0.3  0.4  0.5  0.6  0.7  0.8  ...  0.581  0.582  0.583  \\\n",
              "0  5  0    0    0    0    0    0    0    0    0  ...      0      0      0   \n",
              "1  7  0    0    0    0    0    0    0    0    0  ...      0      0      0   \n",
              "2  9  0    0    0    0    0    0    0    0    0  ...      0      0      0   \n",
              "3  5  0    0    0    0    0    0    0    0    0  ...      0      0      0   \n",
              "4  2  0    0    0    0    0    0    0    0    0  ...      0      0      0   \n",
              "\n",
              "   0.584  0.585  0.586  0.587  0.588  0.589  0.590  \n",
              "0      0      0      0      0      0      0      0  \n",
              "1      0      0      0      0      0      0      0  \n",
              "2      0      0      0      0      0      0      0  \n",
              "3      0      0      0      0      0      0      0  \n",
              "4      0      0      0      0      0      0      0  \n",
              "\n",
              "[5 rows x 785 columns]"
            ],
            "text/html": [
              "\n",
              "  <div id=\"df-52d3741d-65f0-4352-a98c-f3490e7824be\">\n",
              "    <div class=\"colab-df-container\">\n",
              "      <div>\n",
              "<style scoped>\n",
              "    .dataframe tbody tr th:only-of-type {\n",
              "        vertical-align: middle;\n",
              "    }\n",
              "\n",
              "    .dataframe tbody tr th {\n",
              "        vertical-align: top;\n",
              "    }\n",
              "\n",
              "    .dataframe thead th {\n",
              "        text-align: right;\n",
              "    }\n",
              "</style>\n",
              "<table border=\"1\" class=\"dataframe\">\n",
              "  <thead>\n",
              "    <tr style=\"text-align: right;\">\n",
              "      <th></th>\n",
              "      <th>6</th>\n",
              "      <th>0</th>\n",
              "      <th>0.1</th>\n",
              "      <th>0.2</th>\n",
              "      <th>0.3</th>\n",
              "      <th>0.4</th>\n",
              "      <th>0.5</th>\n",
              "      <th>0.6</th>\n",
              "      <th>0.7</th>\n",
              "      <th>0.8</th>\n",
              "      <th>...</th>\n",
              "      <th>0.581</th>\n",
              "      <th>0.582</th>\n",
              "      <th>0.583</th>\n",
              "      <th>0.584</th>\n",
              "      <th>0.585</th>\n",
              "      <th>0.586</th>\n",
              "      <th>0.587</th>\n",
              "      <th>0.588</th>\n",
              "      <th>0.589</th>\n",
              "      <th>0.590</th>\n",
              "    </tr>\n",
              "  </thead>\n",
              "  <tbody>\n",
              "    <tr>\n",
              "      <th>0</th>\n",
              "      <td>5</td>\n",
              "      <td>0</td>\n",
              "      <td>0</td>\n",
              "      <td>0</td>\n",
              "      <td>0</td>\n",
              "      <td>0</td>\n",
              "      <td>0</td>\n",
              "      <td>0</td>\n",
              "      <td>0</td>\n",
              "      <td>0</td>\n",
              "      <td>...</td>\n",
              "      <td>0</td>\n",
              "      <td>0</td>\n",
              "      <td>0</td>\n",
              "      <td>0</td>\n",
              "      <td>0</td>\n",
              "      <td>0</td>\n",
              "      <td>0</td>\n",
              "      <td>0</td>\n",
              "      <td>0</td>\n",
              "      <td>0</td>\n",
              "    </tr>\n",
              "    <tr>\n",
              "      <th>1</th>\n",
              "      <td>7</td>\n",
              "      <td>0</td>\n",
              "      <td>0</td>\n",
              "      <td>0</td>\n",
              "      <td>0</td>\n",
              "      <td>0</td>\n",
              "      <td>0</td>\n",
              "      <td>0</td>\n",
              "      <td>0</td>\n",
              "      <td>0</td>\n",
              "      <td>...</td>\n",
              "      <td>0</td>\n",
              "      <td>0</td>\n",
              "      <td>0</td>\n",
              "      <td>0</td>\n",
              "      <td>0</td>\n",
              "      <td>0</td>\n",
              "      <td>0</td>\n",
              "      <td>0</td>\n",
              "      <td>0</td>\n",
              "      <td>0</td>\n",
              "    </tr>\n",
              "    <tr>\n",
              "      <th>2</th>\n",
              "      <td>9</td>\n",
              "      <td>0</td>\n",
              "      <td>0</td>\n",
              "      <td>0</td>\n",
              "      <td>0</td>\n",
              "      <td>0</td>\n",
              "      <td>0</td>\n",
              "      <td>0</td>\n",
              "      <td>0</td>\n",
              "      <td>0</td>\n",
              "      <td>...</td>\n",
              "      <td>0</td>\n",
              "      <td>0</td>\n",
              "      <td>0</td>\n",
              "      <td>0</td>\n",
              "      <td>0</td>\n",
              "      <td>0</td>\n",
              "      <td>0</td>\n",
              "      <td>0</td>\n",
              "      <td>0</td>\n",
              "      <td>0</td>\n",
              "    </tr>\n",
              "    <tr>\n",
              "      <th>3</th>\n",
              "      <td>5</td>\n",
              "      <td>0</td>\n",
              "      <td>0</td>\n",
              "      <td>0</td>\n",
              "      <td>0</td>\n",
              "      <td>0</td>\n",
              "      <td>0</td>\n",
              "      <td>0</td>\n",
              "      <td>0</td>\n",
              "      <td>0</td>\n",
              "      <td>...</td>\n",
              "      <td>0</td>\n",
              "      <td>0</td>\n",
              "      <td>0</td>\n",
              "      <td>0</td>\n",
              "      <td>0</td>\n",
              "      <td>0</td>\n",
              "      <td>0</td>\n",
              "      <td>0</td>\n",
              "      <td>0</td>\n",
              "      <td>0</td>\n",
              "    </tr>\n",
              "    <tr>\n",
              "      <th>4</th>\n",
              "      <td>2</td>\n",
              "      <td>0</td>\n",
              "      <td>0</td>\n",
              "      <td>0</td>\n",
              "      <td>0</td>\n",
              "      <td>0</td>\n",
              "      <td>0</td>\n",
              "      <td>0</td>\n",
              "      <td>0</td>\n",
              "      <td>0</td>\n",
              "      <td>...</td>\n",
              "      <td>0</td>\n",
              "      <td>0</td>\n",
              "      <td>0</td>\n",
              "      <td>0</td>\n",
              "      <td>0</td>\n",
              "      <td>0</td>\n",
              "      <td>0</td>\n",
              "      <td>0</td>\n",
              "      <td>0</td>\n",
              "      <td>0</td>\n",
              "    </tr>\n",
              "  </tbody>\n",
              "</table>\n",
              "<p>5 rows × 785 columns</p>\n",
              "</div>\n",
              "      <button class=\"colab-df-convert\" onclick=\"convertToInteractive('df-52d3741d-65f0-4352-a98c-f3490e7824be')\"\n",
              "              title=\"Convert this dataframe to an interactive table.\"\n",
              "              style=\"display:none;\">\n",
              "        \n",
              "  <svg xmlns=\"http://www.w3.org/2000/svg\" height=\"24px\"viewBox=\"0 0 24 24\"\n",
              "       width=\"24px\">\n",
              "    <path d=\"M0 0h24v24H0V0z\" fill=\"none\"/>\n",
              "    <path d=\"M18.56 5.44l.94 2.06.94-2.06 2.06-.94-2.06-.94-.94-2.06-.94 2.06-2.06.94zm-11 1L8.5 8.5l.94-2.06 2.06-.94-2.06-.94L8.5 2.5l-.94 2.06-2.06.94zm10 10l.94 2.06.94-2.06 2.06-.94-2.06-.94-.94-2.06-.94 2.06-2.06.94z\"/><path d=\"M17.41 7.96l-1.37-1.37c-.4-.4-.92-.59-1.43-.59-.52 0-1.04.2-1.43.59L10.3 9.45l-7.72 7.72c-.78.78-.78 2.05 0 2.83L4 21.41c.39.39.9.59 1.41.59.51 0 1.02-.2 1.41-.59l7.78-7.78 2.81-2.81c.8-.78.8-2.07 0-2.86zM5.41 20L4 18.59l7.72-7.72 1.47 1.35L5.41 20z\"/>\n",
              "  </svg>\n",
              "      </button>\n",
              "      \n",
              "  <style>\n",
              "    .colab-df-container {\n",
              "      display:flex;\n",
              "      flex-wrap:wrap;\n",
              "      gap: 12px;\n",
              "    }\n",
              "\n",
              "    .colab-df-convert {\n",
              "      background-color: #E8F0FE;\n",
              "      border: none;\n",
              "      border-radius: 50%;\n",
              "      cursor: pointer;\n",
              "      display: none;\n",
              "      fill: #1967D2;\n",
              "      height: 32px;\n",
              "      padding: 0 0 0 0;\n",
              "      width: 32px;\n",
              "    }\n",
              "\n",
              "    .colab-df-convert:hover {\n",
              "      background-color: #E2EBFA;\n",
              "      box-shadow: 0px 1px 2px rgba(60, 64, 67, 0.3), 0px 1px 3px 1px rgba(60, 64, 67, 0.15);\n",
              "      fill: #174EA6;\n",
              "    }\n",
              "\n",
              "    [theme=dark] .colab-df-convert {\n",
              "      background-color: #3B4455;\n",
              "      fill: #D2E3FC;\n",
              "    }\n",
              "\n",
              "    [theme=dark] .colab-df-convert:hover {\n",
              "      background-color: #434B5C;\n",
              "      box-shadow: 0px 1px 3px 1px rgba(0, 0, 0, 0.15);\n",
              "      filter: drop-shadow(0px 1px 2px rgba(0, 0, 0, 0.3));\n",
              "      fill: #FFFFFF;\n",
              "    }\n",
              "  </style>\n",
              "\n",
              "      <script>\n",
              "        const buttonEl =\n",
              "          document.querySelector('#df-52d3741d-65f0-4352-a98c-f3490e7824be button.colab-df-convert');\n",
              "        buttonEl.style.display =\n",
              "          google.colab.kernel.accessAllowed ? 'block' : 'none';\n",
              "\n",
              "        async function convertToInteractive(key) {\n",
              "          const element = document.querySelector('#df-52d3741d-65f0-4352-a98c-f3490e7824be');\n",
              "          const dataTable =\n",
              "            await google.colab.kernel.invokeFunction('convertToInteractive',\n",
              "                                                     [key], {});\n",
              "          if (!dataTable) return;\n",
              "\n",
              "          const docLinkHtml = 'Like what you see? Visit the ' +\n",
              "            '<a target=\"_blank\" href=https://colab.research.google.com/notebooks/data_table.ipynb>data table notebook</a>'\n",
              "            + ' to learn more about interactive tables.';\n",
              "          element.innerHTML = '';\n",
              "          dataTable['output_type'] = 'display_data';\n",
              "          await google.colab.output.renderOutput(dataTable, element);\n",
              "          const docLink = document.createElement('div');\n",
              "          docLink.innerHTML = docLinkHtml;\n",
              "          element.appendChild(docLink);\n",
              "        }\n",
              "      </script>\n",
              "    </div>\n",
              "  </div>\n",
              "  "
            ]
          },
          "metadata": {},
          "execution_count": 3
        }
      ]
    },
    {
      "cell_type": "code",
      "source": [
        "mnist_test.head()"
      ],
      "metadata": {
        "colab": {
          "base_uri": "https://localhost:8080/",
          "height": 235
        },
        "id": "Y8FcCiABZTsi",
        "outputId": "c33423e3-3c4b-46e1-b486-7bb16f6d7476"
      },
      "execution_count": 4,
      "outputs": [
        {
          "output_type": "execute_result",
          "data": {
            "text/plain": [
              "   7  0  0.1  0.2  0.3  0.4  0.5  0.6  0.7  0.8  ...  0.658  0.659  0.660  \\\n",
              "0  2  0    0    0    0    0    0    0    0    0  ...      0      0      0   \n",
              "1  1  0    0    0    0    0    0    0    0    0  ...      0      0      0   \n",
              "2  0  0    0    0    0    0    0    0    0    0  ...      0      0      0   \n",
              "3  4  0    0    0    0    0    0    0    0    0  ...      0      0      0   \n",
              "4  1  0    0    0    0    0    0    0    0    0  ...      0      0      0   \n",
              "\n",
              "   0.661  0.662  0.663  0.664  0.665  0.666  0.667  \n",
              "0      0      0      0      0      0      0      0  \n",
              "1      0      0      0      0      0      0      0  \n",
              "2      0      0      0      0      0      0      0  \n",
              "3      0      0      0      0      0      0      0  \n",
              "4      0      0      0      0      0      0      0  \n",
              "\n",
              "[5 rows x 785 columns]"
            ],
            "text/html": [
              "\n",
              "  <div id=\"df-8de4a084-416d-4bd6-9e60-97434a7d458d\">\n",
              "    <div class=\"colab-df-container\">\n",
              "      <div>\n",
              "<style scoped>\n",
              "    .dataframe tbody tr th:only-of-type {\n",
              "        vertical-align: middle;\n",
              "    }\n",
              "\n",
              "    .dataframe tbody tr th {\n",
              "        vertical-align: top;\n",
              "    }\n",
              "\n",
              "    .dataframe thead th {\n",
              "        text-align: right;\n",
              "    }\n",
              "</style>\n",
              "<table border=\"1\" class=\"dataframe\">\n",
              "  <thead>\n",
              "    <tr style=\"text-align: right;\">\n",
              "      <th></th>\n",
              "      <th>7</th>\n",
              "      <th>0</th>\n",
              "      <th>0.1</th>\n",
              "      <th>0.2</th>\n",
              "      <th>0.3</th>\n",
              "      <th>0.4</th>\n",
              "      <th>0.5</th>\n",
              "      <th>0.6</th>\n",
              "      <th>0.7</th>\n",
              "      <th>0.8</th>\n",
              "      <th>...</th>\n",
              "      <th>0.658</th>\n",
              "      <th>0.659</th>\n",
              "      <th>0.660</th>\n",
              "      <th>0.661</th>\n",
              "      <th>0.662</th>\n",
              "      <th>0.663</th>\n",
              "      <th>0.664</th>\n",
              "      <th>0.665</th>\n",
              "      <th>0.666</th>\n",
              "      <th>0.667</th>\n",
              "    </tr>\n",
              "  </thead>\n",
              "  <tbody>\n",
              "    <tr>\n",
              "      <th>0</th>\n",
              "      <td>2</td>\n",
              "      <td>0</td>\n",
              "      <td>0</td>\n",
              "      <td>0</td>\n",
              "      <td>0</td>\n",
              "      <td>0</td>\n",
              "      <td>0</td>\n",
              "      <td>0</td>\n",
              "      <td>0</td>\n",
              "      <td>0</td>\n",
              "      <td>...</td>\n",
              "      <td>0</td>\n",
              "      <td>0</td>\n",
              "      <td>0</td>\n",
              "      <td>0</td>\n",
              "      <td>0</td>\n",
              "      <td>0</td>\n",
              "      <td>0</td>\n",
              "      <td>0</td>\n",
              "      <td>0</td>\n",
              "      <td>0</td>\n",
              "    </tr>\n",
              "    <tr>\n",
              "      <th>1</th>\n",
              "      <td>1</td>\n",
              "      <td>0</td>\n",
              "      <td>0</td>\n",
              "      <td>0</td>\n",
              "      <td>0</td>\n",
              "      <td>0</td>\n",
              "      <td>0</td>\n",
              "      <td>0</td>\n",
              "      <td>0</td>\n",
              "      <td>0</td>\n",
              "      <td>...</td>\n",
              "      <td>0</td>\n",
              "      <td>0</td>\n",
              "      <td>0</td>\n",
              "      <td>0</td>\n",
              "      <td>0</td>\n",
              "      <td>0</td>\n",
              "      <td>0</td>\n",
              "      <td>0</td>\n",
              "      <td>0</td>\n",
              "      <td>0</td>\n",
              "    </tr>\n",
              "    <tr>\n",
              "      <th>2</th>\n",
              "      <td>0</td>\n",
              "      <td>0</td>\n",
              "      <td>0</td>\n",
              "      <td>0</td>\n",
              "      <td>0</td>\n",
              "      <td>0</td>\n",
              "      <td>0</td>\n",
              "      <td>0</td>\n",
              "      <td>0</td>\n",
              "      <td>0</td>\n",
              "      <td>...</td>\n",
              "      <td>0</td>\n",
              "      <td>0</td>\n",
              "      <td>0</td>\n",
              "      <td>0</td>\n",
              "      <td>0</td>\n",
              "      <td>0</td>\n",
              "      <td>0</td>\n",
              "      <td>0</td>\n",
              "      <td>0</td>\n",
              "      <td>0</td>\n",
              "    </tr>\n",
              "    <tr>\n",
              "      <th>3</th>\n",
              "      <td>4</td>\n",
              "      <td>0</td>\n",
              "      <td>0</td>\n",
              "      <td>0</td>\n",
              "      <td>0</td>\n",
              "      <td>0</td>\n",
              "      <td>0</td>\n",
              "      <td>0</td>\n",
              "      <td>0</td>\n",
              "      <td>0</td>\n",
              "      <td>...</td>\n",
              "      <td>0</td>\n",
              "      <td>0</td>\n",
              "      <td>0</td>\n",
              "      <td>0</td>\n",
              "      <td>0</td>\n",
              "      <td>0</td>\n",
              "      <td>0</td>\n",
              "      <td>0</td>\n",
              "      <td>0</td>\n",
              "      <td>0</td>\n",
              "    </tr>\n",
              "    <tr>\n",
              "      <th>4</th>\n",
              "      <td>1</td>\n",
              "      <td>0</td>\n",
              "      <td>0</td>\n",
              "      <td>0</td>\n",
              "      <td>0</td>\n",
              "      <td>0</td>\n",
              "      <td>0</td>\n",
              "      <td>0</td>\n",
              "      <td>0</td>\n",
              "      <td>0</td>\n",
              "      <td>...</td>\n",
              "      <td>0</td>\n",
              "      <td>0</td>\n",
              "      <td>0</td>\n",
              "      <td>0</td>\n",
              "      <td>0</td>\n",
              "      <td>0</td>\n",
              "      <td>0</td>\n",
              "      <td>0</td>\n",
              "      <td>0</td>\n",
              "      <td>0</td>\n",
              "    </tr>\n",
              "  </tbody>\n",
              "</table>\n",
              "<p>5 rows × 785 columns</p>\n",
              "</div>\n",
              "      <button class=\"colab-df-convert\" onclick=\"convertToInteractive('df-8de4a084-416d-4bd6-9e60-97434a7d458d')\"\n",
              "              title=\"Convert this dataframe to an interactive table.\"\n",
              "              style=\"display:none;\">\n",
              "        \n",
              "  <svg xmlns=\"http://www.w3.org/2000/svg\" height=\"24px\"viewBox=\"0 0 24 24\"\n",
              "       width=\"24px\">\n",
              "    <path d=\"M0 0h24v24H0V0z\" fill=\"none\"/>\n",
              "    <path d=\"M18.56 5.44l.94 2.06.94-2.06 2.06-.94-2.06-.94-.94-2.06-.94 2.06-2.06.94zm-11 1L8.5 8.5l.94-2.06 2.06-.94-2.06-.94L8.5 2.5l-.94 2.06-2.06.94zm10 10l.94 2.06.94-2.06 2.06-.94-2.06-.94-.94-2.06-.94 2.06-2.06.94z\"/><path d=\"M17.41 7.96l-1.37-1.37c-.4-.4-.92-.59-1.43-.59-.52 0-1.04.2-1.43.59L10.3 9.45l-7.72 7.72c-.78.78-.78 2.05 0 2.83L4 21.41c.39.39.9.59 1.41.59.51 0 1.02-.2 1.41-.59l7.78-7.78 2.81-2.81c.8-.78.8-2.07 0-2.86zM5.41 20L4 18.59l7.72-7.72 1.47 1.35L5.41 20z\"/>\n",
              "  </svg>\n",
              "      </button>\n",
              "      \n",
              "  <style>\n",
              "    .colab-df-container {\n",
              "      display:flex;\n",
              "      flex-wrap:wrap;\n",
              "      gap: 12px;\n",
              "    }\n",
              "\n",
              "    .colab-df-convert {\n",
              "      background-color: #E8F0FE;\n",
              "      border: none;\n",
              "      border-radius: 50%;\n",
              "      cursor: pointer;\n",
              "      display: none;\n",
              "      fill: #1967D2;\n",
              "      height: 32px;\n",
              "      padding: 0 0 0 0;\n",
              "      width: 32px;\n",
              "    }\n",
              "\n",
              "    .colab-df-convert:hover {\n",
              "      background-color: #E2EBFA;\n",
              "      box-shadow: 0px 1px 2px rgba(60, 64, 67, 0.3), 0px 1px 3px 1px rgba(60, 64, 67, 0.15);\n",
              "      fill: #174EA6;\n",
              "    }\n",
              "\n",
              "    [theme=dark] .colab-df-convert {\n",
              "      background-color: #3B4455;\n",
              "      fill: #D2E3FC;\n",
              "    }\n",
              "\n",
              "    [theme=dark] .colab-df-convert:hover {\n",
              "      background-color: #434B5C;\n",
              "      box-shadow: 0px 1px 3px 1px rgba(0, 0, 0, 0.15);\n",
              "      filter: drop-shadow(0px 1px 2px rgba(0, 0, 0, 0.3));\n",
              "      fill: #FFFFFF;\n",
              "    }\n",
              "  </style>\n",
              "\n",
              "      <script>\n",
              "        const buttonEl =\n",
              "          document.querySelector('#df-8de4a084-416d-4bd6-9e60-97434a7d458d button.colab-df-convert');\n",
              "        buttonEl.style.display =\n",
              "          google.colab.kernel.accessAllowed ? 'block' : 'none';\n",
              "\n",
              "        async function convertToInteractive(key) {\n",
              "          const element = document.querySelector('#df-8de4a084-416d-4bd6-9e60-97434a7d458d');\n",
              "          const dataTable =\n",
              "            await google.colab.kernel.invokeFunction('convertToInteractive',\n",
              "                                                     [key], {});\n",
              "          if (!dataTable) return;\n",
              "\n",
              "          const docLinkHtml = 'Like what you see? Visit the ' +\n",
              "            '<a target=\"_blank\" href=https://colab.research.google.com/notebooks/data_table.ipynb>data table notebook</a>'\n",
              "            + ' to learn more about interactive tables.';\n",
              "          element.innerHTML = '';\n",
              "          dataTable['output_type'] = 'display_data';\n",
              "          await google.colab.output.renderOutput(dataTable, element);\n",
              "          const docLink = document.createElement('div');\n",
              "          docLink.innerHTML = docLinkHtml;\n",
              "          element.appendChild(docLink);\n",
              "        }\n",
              "      </script>\n",
              "    </div>\n",
              "  </div>\n",
              "  "
            ]
          },
          "metadata": {},
          "execution_count": 4
        }
      ]
    },
    {
      "cell_type": "markdown",
      "source": [
        "Observamos que la lista de nombres de cada columna es también parte de la data, tanto para `mnist_train` como `mnist_test`."
      ],
      "metadata": {
        "id": "4CxYaOsgZ5D9"
      }
    },
    {
      "cell_type": "code",
      "source": [
        "# Obteniendo los valores\n",
        "mnist1 = np.array([float(i) for i in mnist_train.columns])\n",
        "mnist2 = np.array([float(i) for i in mnist_test.columns])\n",
        "\n",
        "# Reemplazando las columnas\n",
        "col1 = np.array(['digito'])\n",
        "col2 = np.linspace(0, 783, 784)\n",
        "col = np.concatenate([col1, col2])\n",
        "mnist_train.columns = col\n",
        "mnist_test.columns = col\n",
        "\n",
        "# Insertando los valores\n",
        "mnist_train = mnist_train.append(pd.DataFrame(mnist1.reshape(1,-1), columns=list(mnist_train)), ignore_index=True)\n",
        "mnist_test = mnist_test.append(pd.DataFrame(mnist2.reshape(1,-1), columns=list(mnist_test)), ignore_index=True)"
      ],
      "metadata": {
        "colab": {
          "base_uri": "https://localhost:8080/"
        },
        "id": "3WNJiC2raFWt",
        "outputId": "ce93a28c-5660-4003-96d9-526ae1cb1e70"
      },
      "execution_count": 5,
      "outputs": [
        {
          "output_type": "stream",
          "name": "stderr",
          "text": [
            "<ipython-input-5-6cd2bdd18154>:13: FutureWarning: The frame.append method is deprecated and will be removed from pandas in a future version. Use pandas.concat instead.\n",
            "  mnist_train = mnist_train.append(pd.DataFrame(mnist1.reshape(1,-1), columns=list(mnist_train)), ignore_index=True)\n",
            "<ipython-input-5-6cd2bdd18154>:14: FutureWarning: The frame.append method is deprecated and will be removed from pandas in a future version. Use pandas.concat instead.\n",
            "  mnist_test = mnist_test.append(pd.DataFrame(mnist2.reshape(1,-1), columns=list(mnist_test)), ignore_index=True)\n"
          ]
        }
      ]
    },
    {
      "cell_type": "code",
      "source": [
        "print('Dimensiones de mnist_train: {}'.format(np.shape(mnist_train)))\n",
        "print('Dimensiones de mnist_test: {}'.format(np.shape(mnist_test)))"
      ],
      "metadata": {
        "colab": {
          "base_uri": "https://localhost:8080/"
        },
        "id": "WJmVks-sg48F",
        "outputId": "41567963-c0b2-40dd-eadd-9dafaecb6f9a"
      },
      "execution_count": 6,
      "outputs": [
        {
          "output_type": "stream",
          "name": "stdout",
          "text": [
            "Dimensiones de mnist_train: (20000, 785)\n",
            "Dimensiones de mnist_test: (10000, 785)\n"
          ]
        }
      ]
    },
    {
      "cell_type": "markdown",
      "source": [
        "Obtenemos las etiquetas de los números."
      ],
      "metadata": {
        "id": "oJ0JbZizEZW7"
      }
    },
    {
      "cell_type": "code",
      "source": [
        "y_train = mnist_train['digito'].to_numpy()\n",
        "mnist_train = mnist_train.drop(['digito'], axis = 1)\n",
        "\n",
        "y_test = mnist_test['digito'].to_numpy()\n",
        "mnist_test = mnist_test.drop(['digito'], axis = 1)"
      ],
      "metadata": {
        "id": "db3ZmMey5kJy"
      },
      "execution_count": 7,
      "outputs": []
    },
    {
      "cell_type": "markdown",
      "source": [
        "Del dataframe anterior observamos que las 784 columnas restantes corresponden a la intensidad de los pixeles que componen cada imagen. Por lo tanto, trabajaremos utilizando un `resize` de (28,28). "
      ],
      "metadata": {
        "id": "w_SRkOo3EdNp"
      }
    },
    {
      "cell_type": "code",
      "source": [
        "# Normalización de datos en función al máximo valor de intensidad\n",
        "X1 = mnist_train.to_numpy() / 255.0\n",
        "X2 = mnist_test.to_numpy() / 255.0\n",
        "\n",
        "# reshape(28,28) para datos de entrenamiento\n",
        "X_train = []\n",
        "for i in range(np.shape(X1)[0]):\n",
        "    X_train.append(mnist_train.iloc[i,:].to_numpy().reshape(28,28))\n",
        "X_train = np.array(X_train)\n",
        "\n",
        "# reshape(28,28) para los datos de test\n",
        "X_test = []\n",
        "for i in range(np.shape(X2)[0]):\n",
        "    X_test.append(mnist_test.iloc[i,:].to_numpy().reshape(28,28))\n",
        "X_test = np.array(X_test)\n",
        "\n",
        "# Ajustamos las dimensiones de las imágenes\n",
        "if X_train.ndim == 3:\n",
        "  X_train = X_train[...,None]\n",
        "  X_test = X_test[..., None]\n",
        "  print(X_train.shape, X_test.shape)"
      ],
      "metadata": {
        "colab": {
          "base_uri": "https://localhost:8080/"
        },
        "id": "ozqZxkq95Cp9",
        "outputId": "66c40974-94df-40c5-9457-482c81f5e333"
      },
      "execution_count": 8,
      "outputs": [
        {
          "output_type": "stream",
          "name": "stdout",
          "text": [
            "(20000, 28, 28, 1) (10000, 28, 28, 1)\n"
          ]
        }
      ]
    },
    {
      "cell_type": "markdown",
      "source": [
        "Evaluamos la distribución de clases."
      ],
      "metadata": {
        "id": "vCf9kgUcZDO_"
      }
    },
    {
      "cell_type": "code",
      "source": [
        "values, counts = np.unique(y_train, return_counts=True)\n",
        "plt.figure(figsize = (6,3))\n",
        "plt.bar(x = np.linspace(0,10,10), height = counts, color = 'black')\n",
        "plt.xlabel('Digitos')\n",
        "plt.ylabel('Frecuencia')\n",
        "plt.xticks(np.linspace(0,10,10), values)\n",
        "plt.show()"
      ],
      "metadata": {
        "colab": {
          "base_uri": "https://localhost:8080/",
          "height": 311
        },
        "id": "VTtyeyd-lcuB",
        "outputId": "6848d8ab-ea0f-4243-9413-411be96b45c5"
      },
      "execution_count": 9,
      "outputs": [
        {
          "output_type": "display_data",
          "data": {
            "text/plain": [
              "<Figure size 600x300 with 1 Axes>"
            ],
            "image/png": "[encoded data removed]"
          },
          "metadata": {}
        }
      ]
    },
    {
      "cell_type": "markdown",
      "source": [
        "Visualizamos la data"
      ],
      "metadata": {
        "id": "TrCaoh5C_rW6"
      }
    },
    {
      "cell_type": "code",
      "source": [
        "for i in range(16):\n",
        "    plt.subplot(4,4, i+1)\n",
        "    idx = np.random.choice(X_train.shape[0], 1)[0]\n",
        "    plt.title('{}'.format(y_train[idx]))\n",
        "    plt.imshow(-X_train[idx], cmap='gray') # para que sean letras negras sobre fondo blanco\n",
        "    plt.axis('off')\n",
        "\n",
        "plt.tight_layout()\n",
        "plt.show()"
      ],
      "metadata": {
        "colab": {
          "base_uri": "https://localhost:8080/",
          "height": 487
        },
        "id": "f2wuz0p7db1Q",
        "outputId": "3b54fdde-1d03-4cbf-9c09-5acfaa55bcf6"
      },
      "execution_count": 10,
      "outputs": [
        {
          "output_type": "display_data",
          "data": {
            "text/plain": [
              "<Figure size 640x480 with 16 Axes>"
            ],
            "image/png": "[encoded data removed]"
          },
          "metadata": {}
        }
      ]
    },
    {
      "cell_type": "markdown",
      "source": [
        "## Implementación de algoritmos de machine learning"
      ],
      "metadata": {
        "id": "b3pUiTPahPBE"
      }
    },
    {
      "cell_type": "markdown",
      "source": [
        "Previa implementación, podemos esperar de que, debido a la alta dimensionalidad de la data (como si tuvieramos \"784 features\"), es posible que los modelos de ML presenten *overfitting*.\n"
      ],
      "metadata": {
        "id": "RTRhlQz3iPdi"
      }
    },
    {
      "cell_type": "code",
      "source": [
        "\"\"\"\n",
        "sklearn solicita que se realiza un \"flatten\" de la imagen. Es decir, que se\n",
        "convierta cada imagen de formato (28,28,1) = (x,y,rgb) a (28*28*1) -> 1D\n",
        "\"\"\"\n",
        "muestras, dx, dy, rgb = np.shape(X_train)\n",
        "x_train = X_train.reshape((muestras, dx*dy*rgb))\n",
        "\n",
        "muestras, dx, dy, rgb = np.shape(X_test)\n",
        "x_test = X_test.reshape((muestras, dx*dy*rgb))"
      ],
      "metadata": {
        "id": "o-MKUX-PA8Rj"
      },
      "execution_count": 12,
      "outputs": []
    },
    {
      "cell_type": "code",
      "source": [
        "# Random Forest\n",
        "from sklearn.ensemble import RandomForestClassifier\n",
        "rf_clf = RandomForestClassifier()\n",
        "rf_clf.fit(x_train, y_train)\n",
        "\n",
        "# KNN\n",
        "from sklearn.neighbors import KNeighborsClassifier\n",
        "knn_clf = KNeighborsClassifier()\n",
        "knn_clf.fit(x_train, y_train)\n",
        "\n",
        "# SVM\n",
        "from sklearn.svm import SVC\n",
        "svm_clf = SVC()\n",
        "svm_clf.fit(x_train, y_train)"
      ],
      "metadata": {
        "colab": {
          "base_uri": "https://localhost:8080/",
          "height": 74
        },
        "id": "_pswM8lYmeYE",
        "outputId": "f65e2ba1-1766-44b9-cd18-f2a2d300d052"
      },
      "execution_count": 13,
      "outputs": [
        {
          "output_type": "execute_result",
          "data": {
            "text/plain": [
              "SVC()"
            ],
            "text/html": [
              "<style>#sk-container-id-1 {color: black;background-color: white;}#sk-container-id-1 pre{padding: 0;}#sk-container-id-1 div.sk-toggleable {background-color: white;}#sk-container-id-1 label.sk-toggleable__label {cursor: pointer;display: block;width: 100%;margin-bottom: 0;padding: 0.3em;box-sizing: border-box;text-align: center;}#sk-container-id-1 label.sk-toggleable__label-arrow:before {content: \"▸\";float: left;margin-right: 0.25em;color: #696969;}#sk-container-id-1 label.sk-toggleable__label-arrow:hover:before {color: black;}#sk-container-id-1 div.sk-estimator:hover label.sk-toggleable__label-arrow:before {color: black;}#sk-container-id-1 div.sk-toggleable__content {max-height: 0;max-width: 0;overflow: hidden;text-align: left;background-color: #f0f8ff;}#sk-container-id-1 div.sk-toggleable__content pre {margin: 0.2em;color: black;border-radius: 0.25em;background-color: #f0f8ff;}#sk-container-id-1 input.sk-toggleable__control:checked~div.sk-toggleable__content {max-height: 200px;max-width: 100%;overflow: auto;}#sk-container-id-1 input.sk-toggleable__control:checked~label.sk-toggleable__label-arrow:before {content: \"▾\";}#sk-container-id-1 div.sk-estimator input.sk-toggleable__control:checked~label.sk-toggleable__label {background-color: #d4ebff;}#sk-container-id-1 div.sk-label input.sk-toggleable__control:checked~label.sk-toggleable__label {background-color: #d4ebff;}#sk-container-id-1 input.sk-hidden--visually {border: 0;clip: rect(1px 1px 1px 1px);clip: rect(1px, 1px, 1px, 1px);height: 1px;margin: -1px;overflow: hidden;padding: 0;position: absolute;width: 1px;}#sk-container-id-1 div.sk-estimator {font-family: monospace;background-color: #f0f8ff;border: 1px dotted black;border-radius: 0.25em;box-sizing: border-box;margin-bottom: 0.5em;}#sk-container-id-1 div.sk-estimator:hover {background-color: #d4ebff;}#sk-container-id-1 div.sk-parallel-item::after {content: \"\";width: 100%;border-bottom: 1px solid gray;flex-grow: 1;}#sk-container-id-1 div.sk-label:hover label.sk-toggleable__label {background-color: #d4ebff;}#sk-container-id-1 div.sk-serial::before {content: \"\";position: absolute;border-left: 1px solid gray;box-sizing: border-box;top: 0;bottom: 0;left: 50%;z-index: 0;}#sk-container-id-1 div.sk-serial {display: flex;flex-direction: column;align-items: center;background-color: white;padding-right: 0.2em;padding-left: 0.2em;position: relative;}#sk-container-id-1 div.sk-item {position: relative;z-index: 1;}#sk-container-id-1 div.sk-parallel {display: flex;align-items: stretch;justify-content: center;background-color: white;position: relative;}#sk-container-id-1 div.sk-item::before, #sk-container-id-1 div.sk-parallel-item::before {content: \"\";position: absolute;border-left: 1px solid gray;box-sizing: border-box;top: 0;bottom: 0;left: 50%;z-index: -1;}#sk-container-id-1 div.sk-parallel-item {display: flex;flex-direction: column;z-index: 1;position: relative;background-color: white;}#sk-container-id-1 div.sk-parallel-item:first-child::after {align-self: flex-end;width: 50%;}#sk-container-id-1 div.sk-parallel-item:last-child::after {align-self: flex-start;width: 50%;}#sk-container-id-1 div.sk-parallel-item:only-child::after {width: 0;}#sk-container-id-1 div.sk-dashed-wrapped {border: 1px dashed gray;margin: 0 0.4em 0.5em 0.4em;box-sizing: border-box;padding-bottom: 0.4em;background-color: white;}#sk-container-id-1 div.sk-label label {font-family: monospace;font-weight: bold;display: inline-block;line-height: 1.2em;}#sk-container-id-1 div.sk-label-container {text-align: center;}#sk-container-id-1 div.sk-container {/* jupyter's `normalize.less` sets `[hidden] { display: none; }` but bootstrap.min.css set `[hidden] { display: none !important; }` so we also need the `!important` here to be able to override the default hidden behavior on the sphinx rendered scikit-learn.org. See: https://github.com/scikit-learn/scikit-learn/issues/21755 */display: inline-block !important;position: relative;}#sk-container-id-1 div.sk-text-repr-fallback {display: none;}</style><div id=\"sk-container-id-1\" class=\"sk-top-container\"><div class=\"sk-text-repr-fallback\"><pre>SVC()</pre><b>In a Jupyter environment, please rerun this cell to show the HTML representation or trust the notebook. <br />On GitHub, the HTML representation is unable to render, please try loading this page with nbviewer.org.</b></div><div class=\"sk-container\" hidden><div class=\"sk-item\"><div class=\"sk-estimator sk-toggleable\"><input class=\"sk-toggleable__control sk-hidden--visually\" id=\"sk-estimator-id-1\" type=\"checkbox\" checked><label for=\"sk-estimator-id-1\" class=\"sk-toggleable__label sk-toggleable__label-arrow\">SVC</label><div class=\"sk-toggleable__content\"><pre>SVC()</pre></div></div></div></div></div>"
            ]
          },
          "metadata": {},
          "execution_count": 13
        }
      ]
    },
    {
      "cell_type": "markdown",
      "source": [
        "Evaluamos las métricas de los modelos de machine learning."
      ],
      "metadata": {
        "id": "OBBNSe5Pn7G8"
      }
    },
    {
      "cell_type": "code",
      "source": [
        "clf = [rf_clf, knn_clf, svm_clf]\n",
        "y_pred = [model.predict(x_test) for model in clf]\n",
        "metrics = {'Accuracy':list(), 'F1 score':list(), 'Precision':list(), 'Recall':list()}\n",
        "\n",
        "from sklearn.metrics import accuracy_score, f1_score, precision_score, recall_score\n",
        "\n",
        "for j in range(len(y_pred)):\n",
        "  metrics['Accuracy'].append(accuracy_score(y_test, y_pred[j]))\n",
        "  metrics['F1 score'].append(f1_score(y_test, y_pred[j], average = 'weighted'))\n",
        "  metrics['Precision'].append(precision_score(y_test, y_pred[j], average = 'weighted'))\n",
        "  metrics['Recall'].append(recall_score(y_test, y_pred[j], average = 'weighted'))\n",
        "\n",
        "df_metrics = pd.DataFrame(metrics)\n",
        "df_metrics.insert(0, 'Clasificadores', ['Random Forest', 'KNN', 'SVM'])\n",
        "df_metrics.set_index('Clasificadores', inplace=True)\n",
        "print(df_metrics)"
      ],
      "metadata": {
        "colab": {
          "base_uri": "https://localhost:8080/"
        },
        "id": "W3oMxZM3m6dh",
        "outputId": "95a42dc1-c937-4475-9b6d-3f52f06a7b22"
      },
      "execution_count": 14,
      "outputs": [
        {
          "output_type": "stream",
          "name": "stdout",
          "text": [
            "                Accuracy  F1 score  Precision  Recall\n",
            "Clasificadores                                       \n",
            "Random Forest     0.9596  0.959562   0.959622  0.9596\n",
            "KNN               0.9591  0.959022   0.959560  0.9591\n",
            "SVM               0.9700  0.969968   0.969982  0.9700\n"
          ]
        }
      ]
    },
    {
      "cell_type": "markdown",
      "source": [
        "## Implementación de modelos de deep learning"
      ],
      "metadata": {
        "id": "H3ERpQJgquB_"
      }
    },
    {
      "cell_type": "code",
      "source": [
        "import tensorflow as tf\n",
        "from tensorflow import keras"
      ],
      "metadata": {
        "id": "t547gyUGsCNv"
      },
      "execution_count": 15,
      "outputs": []
    },
    {
      "cell_type": "markdown",
      "source": [
        "### Multi-layer perceptron"
      ],
      "metadata": {
        "id": "Qva3AF_drstD"
      }
    },
    {
      "cell_type": "code",
      "source": [
        "# Será necesario incluir una operación de flatten para trabajar con imágenes\n",
        "np.shape(X_train)"
      ],
      "metadata": {
        "colab": {
          "base_uri": "https://localhost:8080/"
        },
        "id": "VID1cpUYHoNB",
        "outputId": "422a389b-006d-4736-a497-30de451cfff5"
      },
      "execution_count": 16,
      "outputs": [
        {
          "output_type": "execute_result",
          "data": {
            "text/plain": [
              "(20000, 28, 28, 1)"
            ]
          },
          "metadata": {},
          "execution_count": 16
        }
      ]
    },
    {
      "cell_type": "code",
      "source": [
        "\"\"\"\n",
        "La función loss será categorical_crossentropy, por lo que se realiza un encoding\n",
        "del target utilizando tensorflow.keras.utils.to_categorical\n",
        "\"\"\"\n",
        "from tensorflow.keras.utils import to_categorical\n",
        "Y_train = to_categorical(y_train)\n",
        "Y_test = to_categorical(y_test)"
      ],
      "metadata": {
        "id": "9mSpO6TjKO0z"
      },
      "execution_count": 17,
      "outputs": []
    },
    {
      "cell_type": "code",
      "source": [
        "# Queremos que el input sea la imagen\n",
        "flatten = tf.keras.layers.Flatten(input_shape=(28,28,1))\n",
        "hidden1 = tf.keras.layers.Dense(units=200)\n",
        "hidden2 = tf.keras.layers.Dense(units=150)\n",
        "\n",
        "# y que el output sea una distribución de probabilidad\n",
        "# donde la máxima probabilidad sea la predicción del modelo\n",
        "output = tf.keras.layers.Dense(units=10, activation = 'softmax')\n",
        "model = tf.keras.Sequential([flatten,hidden1,hidden2,output])"
      ],
      "metadata": {
        "id": "iGfveeY8F8_C"
      },
      "execution_count": 18,
      "outputs": []
    },
    {
      "cell_type": "markdown",
      "source": [
        "Podemos observar la estructura del modelo, la cual incluye una capa `flatten` que permite convertir la imagen en un vector 1D (de la misma forma como se realizó para la implementación de los modelos de ML), seguido de dos capas ocultas, y con una capa de 10 neuronas como output que permitirá estimar la probabilidad de los dígitos."
      ],
      "metadata": {
        "id": "BT9KtlRQIJxM"
      }
    },
    {
      "cell_type": "code",
      "source": [
        "model.summary()"
      ],
      "metadata": {
        "colab": {
          "base_uri": "https://localhost:8080/"
        },
        "id": "pHR08E1aI7eD",
        "outputId": "5105b53c-ffa8-453a-f9b2-eaac5db887a8"
      },
      "execution_count": 19,
      "outputs": [
        {
          "output_type": "stream",
          "name": "stdout",
          "text": [
            "Model: \"sequential\"\n",
            "_________________________________________________________________\n",
            " Layer (type)                Output Shape              Param #   \n",
            "=================================================================\n",
            " flatten (Flatten)           (None, 784)               0         \n",
            "                                                                 \n",
            " dense (Dense)               (None, 200)               157000    \n",
            "                                                                 \n",
            " dense_1 (Dense)             (None, 150)               30150     \n",
            "                                                                 \n",
            " dense_2 (Dense)             (None, 10)                1510      \n",
            "                                                                 \n",
            "=================================================================\n",
            "Total params: 188,660\n",
            "Trainable params: 188,660\n",
            "Non-trainable params: 0\n",
            "_________________________________________________________________\n"
          ]
        }
      ]
    },
    {
      "cell_type": "code",
      "source": [
        "model.compile(\n",
        "    optimizer = tf.keras.optimizers.Adam(0.1),\n",
        "    loss='categorical_crossentropy',\n",
        "    metrics = ['accuracy']\n",
        ")"
      ],
      "metadata": {
        "id": "f368MyQAsdLr"
      },
      "execution_count": 20,
      "outputs": []
    },
    {
      "cell_type": "code",
      "source": [
        "historia = model.fit(X_train, Y_train, batch_size = 3, epochs=20, verbose=False)"
      ],
      "metadata": {
        "id": "IQErrITtsd2K"
      },
      "execution_count": 21,
      "outputs": []
    },
    {
      "cell_type": "code",
      "source": [
        "plt.figure(figsize = (4,4))\n",
        "plt.plot(historia.history[\"loss\"])\n",
        "plt.show()"
      ],
      "metadata": {
        "colab": {
          "base_uri": "https://localhost:8080/",
          "height": 383
        },
        "id": "Eg9gbp3dslfj",
        "outputId": "057654ac-35fc-4891-a46a-36e278c23390"
      },
      "execution_count": 22,
      "outputs": [
        {
          "output_type": "display_data",
          "data": {
            "text/plain": [
              "<Figure size 400x400 with 1 Axes>"
            ],
            "image/png": "[encoded data removed]"
          },
          "metadata": {}
        }
      ]
    },
    {
      "cell_type": "markdown",
      "source": [
        "En este caso, aún es necesario optimizar los siguientes hiperparámetros:\n",
        "\n",
        "* Número de capas ocultas y número de neuronas por capa\n",
        "* `batch_size` y `epochs`, para controlar el overfitting de acuerdo a cuántas muestras utiliza el modelo para aprender, y el número de iteraciones que realiza, respectivamente\n",
        "* `learning_rate` y `loss`, los cuales se asumen que no son óptimos porque el valor de pérdida sube en vez de disminuir"
      ],
      "metadata": {
        "id": "2QxqlrmXWGjq"
      }
    },
    {
      "cell_type": "markdown",
      "source": [
        "Aún así, podemos evaluar el rendimiento del modelo en base a las predicciones que realiza."
      ],
      "metadata": {
        "id": "QfHyLw0at23z"
      }
    },
    {
      "cell_type": "code",
      "source": [
        "loss, accuracy = model.evaluate(X_test, Y_test)"
      ],
      "metadata": {
        "colab": {
          "base_uri": "https://localhost:8080/"
        },
        "id": "vHK9AzkTxNbk",
        "outputId": "bb9b1818-a193-445e-bd05-32ef91d2a44d"
      },
      "execution_count": 23,
      "outputs": [
        {
          "output_type": "stream",
          "name": "stdout",
          "text": [
            "313/313 [==============================] - 1s 3ms/step - loss: 8789437.0000 - accuracy: 0.8593\n"
          ]
        }
      ]
    },
    {
      "cell_type": "markdown",
      "source": [
        "También podemos evaluar las predicciones visualmente."
      ],
      "metadata": {
        "id": "mzRhkbjiNazy"
      }
    },
    {
      "cell_type": "code",
      "source": [
        "#@title Evaluando las predicciones\n",
        "# Obtenemos una imagen aleatoria\n",
        "idx = np.random.choice(X_test.shape[0], 1)[0]\n",
        "im = X_test[idx]\n",
        "label = y_test[idx]\n",
        "\n",
        "# Realizamos la predicción\n",
        "salida = model.predict(im[None,:,:,:])[0]\n",
        "\n",
        "fig, ax = plt.subplots(ncols = 2, nrows = 1, figsize = (6,3))\n",
        "ax[0].title.set_text('real:{}'.format(label ))\n",
        "ax[0].imshow(-im[:,:,0], cmap='gray')\n",
        "\n",
        "ax[1].title.set_text(\"predicción: {}\".format(salida.argmax()))\n",
        "ax[1].set_ylabel(\"Probabilidad\")\n",
        "ax[1].set_xlabel(\"Dígito\")\n",
        "plt.ylim([0,1])\n",
        "plt.bar(np.arange(10), salida, color = 'black')\n",
        "ax[1].set_xticks(np.arange(10), range(10))\n",
        "\n",
        "plt.tight_layout()\n",
        "plt.show()"
      ],
      "metadata": {
        "colab": {
          "base_uri": "https://localhost:8080/",
          "height": 324
        },
        "cellView": "form",
        "id": "23dmmAFVNfvZ",
        "outputId": "7e4177e1-9b3d-465d-fa15-347094c09e41"
      },
      "execution_count": 51,
      "outputs": [
        {
          "output_type": "stream",
          "name": "stdout",
          "text": [
            "1/1 [==============================] - 0s 18ms/step\n"
          ]
        },
        {
          "output_type": "display_data",
          "data": {
            "text/plain": [
              "<Figure size 600x300 with 2 Axes>"
            ],
            "image/png": "[encoded data removed]"
          },
          "metadata": {}
        }
      ]
    },
    {
      "cell_type": "markdown",
      "source": [
        "### Convolutional neural network "
      ],
      "metadata": {
        "id": "8SMhFLTezJN8"
      }
    },
    {
      "cell_type": "markdown",
      "source": [
        "La literatura recomienda utilizar una red neuronal denominada *convolutional neural network* o CNN para la tarea de clasificación de imágenes (resumiedo en la revisión de [Alzubaidi et al](https://journalofbigdata.springeropen.com/articles/10.1186/s40537-021-00444-8) del 2021). Por lo tanto, se busca comparar el rendimiento del multi-layer perceptron implementado con un algoritmo de CNN extraido de la documentación de `tensorflow`."
      ],
      "metadata": {
        "id": "KlHdNIwqIr-w"
      }
    },
    {
      "cell_type": "code",
      "source": [
        "from tensorflow.python.keras.layers import Dense, Conv2D, MaxPool2D, Flatten\n",
        "from keras.models import Sequential\n",
        "\n",
        "lr = 0.1 \n",
        "\n",
        "n_filters_1 = 16 \n",
        "filter_size_1 = 3 \n",
        "activation_1 = \"relu\" \n",
        "\n",
        "n_filters_2 = 16 \n",
        "filter_size_2 = 3 \n",
        "activation_2 = \"relu\" \n",
        "\n",
        "n_filters_3 = 16 \n",
        "filter_size_3 = 3 \n",
        "activation_3 = \"relu\"\n",
        "\n",
        "n_filters_fc = 16 \n",
        "activation_fc = \"relu\" \n",
        "\n",
        "model_cnn = Sequential([Conv2D(n_filters_1, filter_size_1, activation=activation_1, input_shape=(28,28,), padding='same'),\n",
        "                    MaxPool2D(),\n",
        "                    Conv2D(n_filters_2, filter_size_2, activation=activation_2, padding='same'),\n",
        "                    MaxPool2D(),\n",
        "                    Conv2D(n_filters_3, filter_size_3, activation=activation_3, padding='same'),\n",
        "                    MaxPool2D(),\n",
        "                    Flatten(),\n",
        "                    Dense(n_filters_fc, activation=activation_fc),\n",
        "                    Dense(10, activation='softmax')])\n",
        "\n",
        "model_cnn.compile(optimizer=tf.keras.optimizers.Adam(lr), loss='sparse_categorical_crossentropy', metrics=['accuracy'])"
      ],
      "metadata": {
        "id": "g9hVGb0m3TjD"
      },
      "execution_count": 40,
      "outputs": []
    },
    {
      "cell_type": "code",
      "source": [
        "log = model_cnn.fit(X_train, y_train, epochs=100, validation_data=(X_test, y_test), verbose = False)"
      ],
      "metadata": {
        "id": "h0P7Q5lc4Iv0"
      },
      "execution_count": 281,
      "outputs": []
    },
    {
      "cell_type": "code",
      "source": [
        "plt.figure(figsize = (4,4))\n",
        "plt.plot(log.history[\"loss\"])\n",
        "plt.show()"
      ],
      "metadata": {
        "id": "_E82oVNYPxNB"
      },
      "execution_count": null,
      "outputs": []
    },
    {
      "cell_type": "code",
      "source": [
        "loss, accuracy = model_cnn.evaluate(X_test, y_test)"
      ],
      "metadata": {
        "id": "I_GbwNckPz8Y"
      },
      "execution_count": null,
      "outputs": []
    },
    {
      "cell_type": "markdown",
      "source": [
        "## Discusión "
      ],
      "metadata": {
        "id": "tRaPA_e2Pf0T"
      }
    },
    {
      "cell_type": "markdown",
      "source": [
        "1. Los algoritmos de deep learning necesitan de una gran base de datos para obtener un rendimiento adecuado, comparable con los de machine learning. Esto no pudo ser evidenciado en este notebook porque el dataset MNIST tiene suficientes datos, pero ha sido reportado en artículos (*A Survey on Deep Learning in Big Data* - [IEEE Xplore](https://ieeexplore.ieee.org/abstract/document/8005992?casa_token=5w6DHEUdJX8AAAAA:gJ1tBikvmEtdveI19fmAjWLjfINMbT3LSjm_SZJXIA4JLDiZpGunkCiGm4bOVK6o6K-jDODetO0))\n"
      ],
      "metadata": {
        "id": "DTnwhe9QPhbB"
      }
    },
    {
      "cell_type": "code",
      "source": [
        "np.shape(X_train) # 20 000 datos de entrenamiento"
      ],
      "metadata": {
        "colab": {
          "base_uri": "https://localhost:8080/"
        },
        "id": "ht_jPhMZTGpp",
        "outputId": "26b35bb5-d2b3-42e8-d787-a482347f9b92"
      },
      "execution_count": 25,
      "outputs": [
        {
          "output_type": "execute_result",
          "data": {
            "text/plain": [
              "(20000, 28, 28, 1)"
            ]
          },
          "metadata": {},
          "execution_count": 25
        }
      ]
    },
    {
      "cell_type": "markdown",
      "source": [
        "2. La mayoría de algoritmos de machine learning son interpretables, en el sentido que uno puede conocer los features más importantes para tomar la decisión de clasificación (e.g `RandomForestClassifier.feature_importances_`). En el caso de los modelos de deep learning, uno puede interpretar hasta cierto punto las operaciones del modelo a partir de su estructura y el peso asignado a cada neurona. Sin embargo, cuando el perceptron tiene muchas capas ocultas (es \"denso\"), deja de ser fácilmente interpretable."
      ],
      "metadata": {
        "id": "yNgnOMsJTJpP"
      }
    },
    {
      "cell_type": "code",
      "source": [
        "model.summary()"
      ],
      "metadata": {
        "colab": {
          "base_uri": "https://localhost:8080/"
        },
        "id": "B_7YXyF1VMGx",
        "outputId": "826760b6-c03c-4ea5-ab41-9274bedc38cf"
      },
      "execution_count": 48,
      "outputs": [
        {
          "output_type": "stream",
          "name": "stdout",
          "text": [
            "Model: \"sequential\"\n",
            "_________________________________________________________________\n",
            " Layer (type)                Output Shape              Param #   \n",
            "=================================================================\n",
            " flatten (Flatten)           (None, 784)               0         \n",
            "                                                                 \n",
            " dense (Dense)               (None, 200)               157000    \n",
            "                                                                 \n",
            " dense_1 (Dense)             (None, 150)               30150     \n",
            "                                                                 \n",
            " dense_2 (Dense)             (None, 10)                1510      \n",
            "                                                                 \n",
            "=================================================================\n",
            "Total params: 188,660\n",
            "Trainable params: 188,660\n",
            "Non-trainable params: 0\n",
            "_________________________________________________________________\n"
          ]
        }
      ]
    },
    {
      "cell_type": "code",
      "source": [
        "# model_cnn.summary() # una vez que se haya ejecutado model_cnn.fit()"
      ],
      "metadata": {
        "id": "gumwVefmVPFi"
      },
      "execution_count": null,
      "outputs": []
    },
    {
      "cell_type": "markdown",
      "source": [
        "3. Al intentar aumentar el rendimiento del multi-layer perceptron, agregar más neuronas causar overfitting, por lo que se prefiere balancear entre la cantidad de capas y de neuronas por capa. Sin embargo, mientras más capas ocultas presente el modelo, menos interpretable será."
      ],
      "metadata": {
        "id": "CI5m2Q7vVUPT"
      }
    },
    {
      "cell_type": "code",
      "source": [
        "model.get_weights()"
      ],
      "metadata": {
        "colab": {
          "base_uri": "https://localhost:8080/"
        },
        "id": "xF7yptE2Vqdi",
        "outputId": "38d4b0b5-93e1-4aa9-f290-b60a7768ffc6"
      },
      "execution_count": 49,
      "outputs": [
        {
          "output_type": "execute_result",
          "data": {
            "text/plain": [
              "[array([[  0.04759708,   0.04033107,  -0.03967507, ...,   0.07212864,\n",
              "           0.02879192,  -0.06235757],\n",
              "        [-25.036907  ,  -5.9441133 , -18.152876  , ...,  -7.8470297 ,\n",
              "          -0.43913305, -19.344263  ],\n",
              "        [-25.13041   ,  -5.851384  , -18.174099  , ...,  -7.804013  ,\n",
              "          -0.37623703, -19.264761  ],\n",
              "        ...,\n",
              "        [-25.108856  ,  -5.947835  , -18.157278  , ...,  -7.7469287 ,\n",
              "          -0.35612616, -19.201897  ],\n",
              "        [-25.16397   ,  -5.9040875 , -18.240194  , ...,  -7.7434597 ,\n",
              "          -0.45395738, -19.333801  ],\n",
              "        [-25.077976  ,  -5.9726505 , -18.164204  , ...,  -7.7427335 ,\n",
              "          -0.3909307 , -19.240305  ]], dtype=float32),\n",
              " array([ 6.63397121e+00,  8.65822124e+00,  2.01710453e+01,  8.17912598e+01,\n",
              "        -5.41523647e+00, -2.66601925e+01,  1.13930206e+02, -1.85789623e+01,\n",
              "         1.24534359e+01, -3.34560013e+01, -8.58033085e+00,  7.44597673e-01,\n",
              "        -1.89377880e+01,  3.70853394e-02,  6.40130615e+00,  1.76578693e+01,\n",
              "        -6.55946636e+00, -1.10919065e+01, -6.21486092e+00,  1.52362328e+01,\n",
              "         3.38114619e+00, -7.70130098e-01,  1.89212918e-01, -4.61998177e+00,\n",
              "         1.94594517e+01, -1.33987474e+01, -1.61549587e+01, -2.33486118e+01,\n",
              "         1.90288198e+00,  5.75424135e-01, -2.24719024e+00,  2.26023445e+01,\n",
              "         3.27446861e+01,  1.11573257e+01, -7.26253653e+00,  4.90795183e+00,\n",
              "         2.59022007e+01, -9.96600628e+00,  2.34293365e+01, -1.64341049e+01,\n",
              "        -2.80875340e+01, -6.02606440e+00,  5.95874262e+00,  1.62707539e+01,\n",
              "        -7.20714188e+00,  6.25949526e+00,  3.17690926e+01, -1.61925125e+01,\n",
              "         2.43898830e+01,  1.63191104e+00,  1.51872568e+01,  8.73288822e+00,\n",
              "        -1.88874493e+01, -1.84741058e+01, -3.56879158e+01, -4.30533552e+00,\n",
              "        -3.06336546e+00,  1.08190250e+01,  1.01522207e+01, -3.96184235e+01,\n",
              "        -2.28491936e+01,  4.21750355e+00, -2.23456311e+00, -1.29045792e+01,\n",
              "        -2.71527348e+01, -4.47734909e+01, -1.05136290e+01, -4.02196455e+00,\n",
              "        -3.53148437e+00,  1.86837254e+01, -1.63171303e+00,  2.21640434e+01,\n",
              "        -9.14336205e+00,  1.70039082e+01,  1.55937748e+01, -2.20583687e+01,\n",
              "        -1.38422668e+00,  8.24280071e+00, -1.97592148e+02, -7.55755544e-01,\n",
              "         6.94302559e+00,  2.18687248e+01,  4.70109653e+00,  1.79580939e+00,\n",
              "        -1.31877127e+01,  3.12785645e+01, -1.41339350e+01,  2.01750698e+01,\n",
              "         8.42818928e+00,  2.37126789e+01,  2.28971028e+00,  6.13787127e+00,\n",
              "        -5.82405043e+00, -1.08969851e+01,  9.08579826e-02, -1.30298147e+01,\n",
              "         1.67137194e+00, -1.44560287e+02, -5.65161943e+00, -4.40979147e+00,\n",
              "        -7.94701767e+00, -1.80480595e+01, -2.71671438e+00, -3.52289081e+00,\n",
              "         1.15500603e+01, -7.28616142e+00, -8.61180973e+00,  7.26563034e+01,\n",
              "         6.84194708e+00, -1.21634951e+01, -1.15529852e+01, -2.61593456e+01,\n",
              "        -3.77775040e+01, -3.70695267e+01,  3.13617182e+00, -1.28418283e+01,\n",
              "        -1.66926460e+01, -1.85078068e+01,  1.18254824e+01,  1.79851017e+01,\n",
              "         2.05830574e+01, -1.77341115e+00, -1.95004101e+01,  1.61012516e+01,\n",
              "         5.94298363e+00, -1.44858065e+01,  2.08478699e+01,  1.30826206e+01,\n",
              "         3.29547119e+01, -4.03253585e-01,  2.28342304e+01,  2.27097168e+01,\n",
              "        -1.49172144e+01, -7.08753169e-01, -2.51944771e+01,  1.37147112e+01,\n",
              "         2.51529098e+00, -2.57589340e+00, -6.25217628e+00,  6.79364204e+00,\n",
              "        -8.60478401e+00, -1.88573017e+01,  1.64901733e+01,  5.16502810e+00,\n",
              "        -5.85445940e-01,  2.17612572e-02,  4.31089287e+01,  1.84759865e+01,\n",
              "         1.83531246e+01, -6.38276577e+00, -7.27274799e+00, -1.75255051e+01,\n",
              "        -4.13759518e+00,  1.11205025e+02,  1.91210804e+01, -4.37485123e+01,\n",
              "        -5.24614143e+01,  1.09581194e+01,  8.13022327e+00,  1.96047878e+01,\n",
              "         2.10478268e+01,  2.70671177e+00, -3.11941528e+02, -2.53210220e+01,\n",
              "        -5.19446182e+00, -1.56793852e+01,  4.47725639e+01,  5.65855713e+01,\n",
              "         1.57446699e+01,  9.72450066e+00,  1.06108797e+00,  1.19446774e+01,\n",
              "        -4.15406532e+01, -1.29016352e+01, -1.89196682e+01, -1.41179638e+01,\n",
              "        -9.60768890e+00,  2.32131348e+01, -1.41430979e+01,  1.27858047e+01,\n",
              "        -1.20602798e+01, -5.35163193e+01, -9.31648102e+01, -1.57177620e+01,\n",
              "         2.36769562e+01, -5.39606571e+00, -2.09977055e+01, -3.29542875e+00,\n",
              "         3.26408653e+01, -1.49544865e-01, -2.05009460e+01,  2.02647953e+01,\n",
              "        -2.39253674e+01,  2.91262531e+01,  1.61803017e+01, -6.78289566e+01,\n",
              "         7.24996758e+00, -1.15890455e+01, -7.44785166e+00,  7.36622925e+01],\n",
              "       dtype=float32),\n",
              " array([[ 1.2198364 ,  0.7260035 , -0.12171279, ..., -1.1447947 ,\n",
              "          0.56360734,  1.7914832 ],\n",
              "        [-4.16645   ,  0.50495607,  2.1976187 , ...,  2.4794643 ,\n",
              "         -3.3251362 , -2.01527   ],\n",
              "        [-0.64930516, -1.1037434 ,  1.7061553 , ...,  1.3088229 ,\n",
              "          0.22384831,  1.3657039 ],\n",
              "        ...,\n",
              "        [ 0.89706093, -0.45261356, -2.024484  , ..., -0.72629917,\n",
              "         -1.1272937 ,  1.7886242 ],\n",
              "        [-2.1791499 , -0.45304278,  0.5565576 , ...,  1.9123129 ,\n",
              "         -1.1642046 ,  0.4315291 ],\n",
              "        [-0.8178903 , -0.73041785,  0.6900947 , ...,  0.6340079 ,\n",
              "         -1.0212669 , -1.0136834 ]], dtype=float32),\n",
              " array([ 5.74303961e+00,  2.62405529e+01, -1.13904371e+01, -9.48357296e+00,\n",
              "        -7.78134060e+00, -1.74271049e+01, -9.28301573e-01,  1.17099915e+01,\n",
              "         2.36749578e+00, -6.62381029e+00,  9.05257511e+00, -1.56049955e+00,\n",
              "        -6.48186743e-01, -1.22936583e+01, -1.05601937e-01, -4.61024895e+01,\n",
              "         5.47084951e+00,  2.97401943e+01,  3.34969711e+01,  1.60177994e+00,\n",
              "        -1.27967024e+01, -3.01219273e+00,  9.15581644e-01,  1.58988082e+00,\n",
              "        -3.46819038e+01, -1.63639946e+01,  2.47568474e+01,  2.17789879e+01,\n",
              "        -1.30577841e+01,  7.55438137e+00,  8.16175079e+00,  9.46910667e+00,\n",
              "         7.39454317e+00,  6.16980362e+00, -9.44100571e+00,  5.10641956e+00,\n",
              "        -1.69127941e+00,  9.19103718e+00, -1.69317257e+00,  1.01077616e+00,\n",
              "         2.12912865e+01,  3.07241058e+01, -9.71061172e+01,  8.31722164e+00,\n",
              "         2.54237862e+01, -1.28652725e+01,  1.86447220e+01,  1.75065088e+00,\n",
              "        -2.13813515e+01,  2.76300001e+00, -7.89547586e+00,  6.71470356e+00,\n",
              "        -1.31115627e+01,  1.24602947e+01, -1.77472286e+01,  5.74857664e+00,\n",
              "         1.75966930e+00, -2.13930435e+01,  4.18779707e+00, -1.42040195e+01,\n",
              "         1.37786436e+01, -4.89865303e+01,  9.44626713e+00,  6.50328207e+00,\n",
              "        -9.34491539e+00, -2.79167023e+01,  2.00962543e+00,  1.16411324e+01,\n",
              "         1.42930832e+01,  3.30471635e+00, -8.04845886e+01,  2.55235691e+01,\n",
              "         1.06382866e+01, -3.19542742e+00,  5.83574009e+00, -1.83571453e+01,\n",
              "         7.45417786e+00, -1.95634659e+02, -1.98549199e+00, -2.67064500e+00,\n",
              "         2.69600468e+01,  4.97185755e+00, -7.24385643e+00,  9.91814518e+00,\n",
              "        -3.49580917e+01, -5.00641060e+00, -5.35633981e-01,  1.32720642e+01,\n",
              "         4.92197037e+00,  2.57849445e+01,  1.27835684e+01, -1.22033107e+00,\n",
              "        -1.03179331e+01, -6.87323380e+00, -9.30101871e+00,  5.98060083e+00,\n",
              "        -1.38299065e+01, -9.86264801e+00, -3.43593180e-01, -2.28911495e+01,\n",
              "        -2.02531219e+00, -1.06205091e+01,  7.44452429e+00, -3.51299262e+00,\n",
              "         2.01663661e+00,  2.65742512e+01, -6.07506466e+00, -1.89244934e+02,\n",
              "         3.91519499e+00,  2.46886587e+00, -2.66564922e+01, -2.43841686e+01,\n",
              "        -6.01720095e+00, -8.44708729e+00, -4.63289309e+00,  6.41085672e+00,\n",
              "        -1.17537737e+00, -1.95215874e+01, -1.14786444e+01,  1.49825459e+01,\n",
              "         3.03353071e+00, -1.42041755e+00, -2.58543730e+00, -3.18600388e+01,\n",
              "         1.03853912e+01, -1.03357019e+01,  1.59167290e+01,  3.99028111e+00,\n",
              "        -1.84054279e+01, -1.74123764e+01, -1.78965607e+01,  3.60588312e+00,\n",
              "        -2.13307076e+01, -2.30069590e+00,  7.28423452e+00,  9.31155872e+00,\n",
              "         2.40279460e+00, -1.09308195e+01, -1.41185360e+01,  2.50843925e+01,\n",
              "        -2.14787693e+01, -1.13978470e+02,  8.43567371e+00, -1.43952525e+00,\n",
              "        -4.92238331e+00, -7.44669676e+00,  2.90504837e+01,  8.91950703e+00,\n",
              "        -9.50041771e+00, -5.52844334e+00], dtype=float32),\n",
              " array([[-0.10463919,  0.80893093, -0.39962444, ..., -0.5146055 ,\n",
              "          0.4525929 , -0.36775872],\n",
              "        [ 0.9622492 ,  0.9706724 ,  1.326483  , ...,  0.56689966,\n",
              "          0.9436108 ,  1.283916  ],\n",
              "        [ 0.59421426, -0.24773714,  0.578136  , ...,  0.38761765,\n",
              "          0.7425239 ,  0.25015822],\n",
              "        ...,\n",
              "        [ 0.750493  ,  0.7329767 ,  0.33324292, ...,  0.66124296,\n",
              "          0.7728863 ,  1.2107368 ],\n",
              "        [-0.5852983 , -0.8592192 , -0.63410556, ..., -0.7858189 ,\n",
              "          0.01431305, -0.87994736],\n",
              "        [-0.11246596,  0.0711704 ,  0.17801498, ...,  0.05556497,\n",
              "          0.08132523,  1.2533315 ]], dtype=float32),\n",
              " array([-287.16      ,  -90.84694   ,   49.459057  ,  -24.38332   ,\n",
              "          -0.82025117,  372.07053   , -138.76399   ,    1.367619  ,\n",
              "         -81.39095   ,   53.879227  ], dtype=float32)]"
            ]
          },
          "metadata": {},
          "execution_count": 49
        }
      ]
    },
    {
      "cell_type": "markdown",
      "source": [
        "## Conclusión"
      ],
      "metadata": {
        "id": "uI4yzi-ESJZJ"
      }
    },
    {
      "cell_type": "markdown",
      "source": [
        "La aplicación de algoritmos de machine learning o deep learning depende del problema que se desee resolver y del tipo de base de datos que se tenga, por lo que no puede definirse un criterio de elección absoluto. En el caso de clasificación de imágenes, los algoritmos de deep learning presentan ventajas con respecto a los de machine learning en cuestión de métricas de rendimiento, pero necesitan de una base de datos más grande, y son computacionalmente más demandantes."
      ],
      "metadata": {
        "id": "tc5y8xiUSKed"
      }
    }
  ]
}